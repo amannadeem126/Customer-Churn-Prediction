{
  "nbformat": 4,
  "nbformat_minor": 0,
  "metadata": {
    "colab": {
      "provenance": []
    },
    "kernelspec": {
      "name": "python3",
      "display_name": "Python 3"
    },
    "language_info": {
      "name": "python"
    }
  },
  "cells": [
    {
      "cell_type": "markdown",
      "source": [
        "# **Importing the dependencies**"
      ],
      "metadata": {
        "id": "SxLZb0GfUjgg"
      }
    },
    {
      "cell_type": "code",
      "execution_count": 2,
      "metadata": {
        "id": "KR9QQPseS-Nf"
      },
      "outputs": [],
      "source": [
        "import numpy as np\n",
        "import pandas as pd\n",
        "import matplotlib.pyplot as plt\n",
        "import seaborn as sns\n"
      ]
    },
    {
      "cell_type": "markdown",
      "source": [
        "# **Data Loading**"
      ],
      "metadata": {
        "id": "SfE5dRvMWdw6"
      }
    },
    {
      "cell_type": "code",
      "source": [
        "df=pd.read_csv(\"/WA_Fn-UseC_-Telco-Customer-Churn.csv\")"
      ],
      "metadata": {
        "id": "jHT-zbC2WvFe"
      },
      "execution_count": 3,
      "outputs": []
    },
    {
      "cell_type": "markdown",
      "source": [
        "# **First Ten Rows**"
      ],
      "metadata": {
        "id": "VWr5Mzd-XSI1"
      }
    },
    {
      "cell_type": "code",
      "source": [
        "print(df.head(10))"
      ],
      "metadata": {
        "colab": {
          "base_uri": "https://localhost:8080/"
        },
        "id": "n42PkrHFXVLi",
        "outputId": "88466cbd-6eac-4863-e593-57a20f4c0be0"
      },
      "execution_count": 5,
      "outputs": [
        {
          "output_type": "stream",
          "name": "stdout",
          "text": [
            "   customerID  gender  SeniorCitizen Partner Dependents  tenure PhoneService  \\\n",
            "0  7590-VHVEG  Female              0     Yes         No       1           No   \n",
            "1  5575-GNVDE    Male              0      No         No      34          Yes   \n",
            "2  3668-QPYBK    Male              0      No         No       2          Yes   \n",
            "3  7795-CFOCW    Male              0      No         No      45           No   \n",
            "4  9237-HQITU  Female              0      No         No       2          Yes   \n",
            "5  9305-CDSKC  Female              0      No         No       8          Yes   \n",
            "6  1452-KIOVK    Male              0      No        Yes      22          Yes   \n",
            "7  6713-OKOMC  Female              0      No         No      10           No   \n",
            "8  7892-POOKP  Female              0     Yes         No      28          Yes   \n",
            "9  6388-TABGU    Male              0      No        Yes      62          Yes   \n",
            "\n",
            "      MultipleLines InternetService OnlineSecurity  ... DeviceProtection  \\\n",
            "0  No phone service             DSL             No  ...               No   \n",
            "1                No             DSL            Yes  ...              Yes   \n",
            "2                No             DSL            Yes  ...               No   \n",
            "3  No phone service             DSL            Yes  ...              Yes   \n",
            "4                No     Fiber optic             No  ...               No   \n",
            "5               Yes     Fiber optic             No  ...              Yes   \n",
            "6               Yes     Fiber optic             No  ...               No   \n",
            "7  No phone service             DSL            Yes  ...               No   \n",
            "8               Yes     Fiber optic             No  ...              Yes   \n",
            "9                No             DSL            Yes  ...               No   \n",
            "\n",
            "  TechSupport StreamingTV StreamingMovies        Contract PaperlessBilling  \\\n",
            "0          No          No              No  Month-to-month              Yes   \n",
            "1          No          No              No        One year               No   \n",
            "2          No          No              No  Month-to-month              Yes   \n",
            "3         Yes          No              No        One year               No   \n",
            "4          No          No              No  Month-to-month              Yes   \n",
            "5          No         Yes             Yes  Month-to-month              Yes   \n",
            "6          No         Yes              No  Month-to-month              Yes   \n",
            "7          No          No              No  Month-to-month               No   \n",
            "8         Yes         Yes             Yes  Month-to-month              Yes   \n",
            "9          No          No              No        One year               No   \n",
            "\n",
            "               PaymentMethod MonthlyCharges  TotalCharges Churn  \n",
            "0           Electronic check          29.85         29.85    No  \n",
            "1               Mailed check          56.95        1889.5    No  \n",
            "2               Mailed check          53.85        108.15   Yes  \n",
            "3  Bank transfer (automatic)          42.30       1840.75    No  \n",
            "4           Electronic check          70.70        151.65   Yes  \n",
            "5           Electronic check          99.65         820.5   Yes  \n",
            "6    Credit card (automatic)          89.10        1949.4    No  \n",
            "7               Mailed check          29.75         301.9    No  \n",
            "8           Electronic check         104.80       3046.05   Yes  \n",
            "9  Bank transfer (automatic)          56.15       3487.95    No  \n",
            "\n",
            "[10 rows x 21 columns]\n"
          ]
        }
      ]
    }
  ]
}