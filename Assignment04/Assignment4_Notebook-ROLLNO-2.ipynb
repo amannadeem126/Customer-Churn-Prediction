{
  "nbformat": 4,
  "nbformat_minor": 0,
  "metadata": {
    "colab": {
      "provenance": [],
      "toc_visible": true
    },
    "kernelspec": {
      "name": "python3",
      "display_name": "Python 3"
    },
    "language_info": {
      "name": "python"
    }
  },
  "cells": [
    {
      "cell_type": "markdown",
      "source": [
        "# **Importing the dependencies**"
      ],
      "metadata": {
        "id": "SxLZb0GfUjgg"
      }
    },
    {
      "cell_type": "code",
      "execution_count": 5,
      "metadata": {
        "id": "KR9QQPseS-Nf"
      },
      "outputs": [],
      "source": [
        "import numpy as np\n",
        "import pandas as pd\n",
        "import matplotlib.pyplot as plt\n",
        "import seaborn as sns\n",
        "df = pd.read_csv(\"Customer-Churn-Cleaned-ROLLNO-2.csv\")\n",
        "\n"
      ]
    },
    {
      "cell_type": "markdown",
      "source": [
        "# **Convert Target Column**"
      ],
      "metadata": {
        "id": "ACMEWOOAQpPY"
      }
    },
    {
      "cell_type": "code",
      "source": [
        "df['Churn'] = df['Churn'].map({'Yes':1, 'No':0})"
      ],
      "metadata": {
        "id": "f953TVR-Otfs"
      },
      "execution_count": 6,
      "outputs": []
    },
    {
      "cell_type": "markdown",
      "source": [
        "# **Correlation**"
      ],
      "metadata": {
        "id": "FycxCPgoQt8f"
      }
    },
    {
      "cell_type": "code",
      "source": [
        "numeric_df = df.select_dtypes(include=['int64','float64'])\n",
        "correlation = numeric_df.corr()\n",
        "correlation['Churn'].sort_values(ascending=False)"
      ],
      "metadata": {
        "colab": {
          "base_uri": "https://localhost:8080/",
          "height": 241
        },
        "id": "LpyjuLtePBdA",
        "outputId": "174dc11e-ef87-4065-c02f-4b259801d10c"
      },
      "execution_count": 9,
      "outputs": [
        {
          "output_type": "execute_result",
          "data": {
            "text/plain": [
              "Churn             1.000000\n",
              "MonthlyCharges    0.192858\n",
              "SeniorCitizen     0.150541\n",
              "TotalCharges     -0.199484\n",
              "tenure           -0.354049\n",
              "Name: Churn, dtype: float64"
            ],
            "text/html": [
              "<div>\n",
              "<style scoped>\n",
              "    .dataframe tbody tr th:only-of-type {\n",
              "        vertical-align: middle;\n",
              "    }\n",
              "\n",
              "    .dataframe tbody tr th {\n",
              "        vertical-align: top;\n",
              "    }\n",
              "\n",
              "    .dataframe thead th {\n",
              "        text-align: right;\n",
              "    }\n",
              "</style>\n",
              "<table border=\"1\" class=\"dataframe\">\n",
              "  <thead>\n",
              "    <tr style=\"text-align: right;\">\n",
              "      <th></th>\n",
              "      <th>Churn</th>\n",
              "    </tr>\n",
              "  </thead>\n",
              "  <tbody>\n",
              "    <tr>\n",
              "      <th>Churn</th>\n",
              "      <td>1.000000</td>\n",
              "    </tr>\n",
              "    <tr>\n",
              "      <th>MonthlyCharges</th>\n",
              "      <td>0.192858</td>\n",
              "    </tr>\n",
              "    <tr>\n",
              "      <th>SeniorCitizen</th>\n",
              "      <td>0.150541</td>\n",
              "    </tr>\n",
              "    <tr>\n",
              "      <th>TotalCharges</th>\n",
              "      <td>-0.199484</td>\n",
              "    </tr>\n",
              "    <tr>\n",
              "      <th>tenure</th>\n",
              "      <td>-0.354049</td>\n",
              "    </tr>\n",
              "  </tbody>\n",
              "</table>\n",
              "</div><br><label><b>dtype:</b> float64</label>"
            ]
          },
          "metadata": {},
          "execution_count": 9
        }
      ]
    },
    {
      "cell_type": "markdown",
      "source": [
        "# **Visualize**"
      ],
      "metadata": {
        "id": "udAugrLJQ8D0"
      }
    },
    {
      "cell_type": "code",
      "source": [
        "plt.figure(figsize=(8,6))\n",
        "sns.heatmap(correlation[['Churn']].sort_values(by='Churn', ascending=False),\n",
        "            annot=True, cmap=\"coolwarm\")\n",
        "plt.title(\"Correlation of Features with Churn\")\n",
        "plt.show()\n"
      ],
      "metadata": {
        "colab": {
          "base_uri": "https://localhost:8080/",
          "height": 545
        },
        "id": "IBVT_FJMPL5g",
        "outputId": "10bd07ac-a0b3-47c7-ba29-6cb5862e98ba"
      },
      "execution_count": 11,
      "outputs": [
        {
          "output_type": "display_data",
          "data": {
            "text/plain": [
              "<Figure size 800x600 with 2 Axes>"
            ],
            "image/png": "[encoded data removed]"
          },
          "metadata": {}
        }
      ]
    },
    {
      "cell_type": "markdown",
      "source": [
        "# **Mean, Median, Mode, Variance**"
      ],
      "metadata": {
        "id": "eSC3ogxgN95s"
      }
    },
    {
      "cell_type": "code",
      "source": [
        "# Convert Churn column to numeric for calculations\n",
        "df['Churn'] = df['Churn'].map({'Yes':1, 'No':0})\n",
        "\n",
        "# Example numeric columns\n",
        "print(\"Mean tenure:\", df['tenure'].mean())\n",
        "print(\"Median tenure:\", df['tenure'].median())\n",
        "print(\"Mode tenure:\", df['tenure'].mode()[0])\n",
        "print(\"Variance tenure:\", df['tenure'].var())\n",
        "\n",
        "print(\"Mean monthly charges:\", df['MonthlyCharges'].mean())\n",
        "print(\"Median monthly charges:\", df['MonthlyCharges'].median())\n",
        "print(\"Mode monthly charges:\", df['MonthlyCharges'].mode()[0])\n",
        "print(\"Variance monthly charges:\", df['MonthlyCharges'].var())\n"
      ],
      "metadata": {
        "colab": {
          "base_uri": "https://localhost:8080/"
        },
        "id": "1i8jDp1KOC2u",
        "outputId": "6797a50b-51a0-492f-baea-88a27ffb7db7"
      },
      "execution_count": 12,
      "outputs": [
        {
          "output_type": "stream",
          "name": "stdout",
          "text": [
            "Mean tenure: 32.421786120591584\n",
            "Median tenure: 29.0\n",
            "Mode tenure: 1\n",
            "Variance tenure: 602.4697741951791\n",
            "Mean monthly charges: 64.79820819112628\n",
            "Median monthly charges: 70.35\n",
            "Mode monthly charges: 20.05\n",
            "Variance monthly charges: 905.1658245517284\n"
          ]
        }
      ]
    }
  ]
}